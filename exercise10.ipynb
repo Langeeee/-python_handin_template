{
 "cells": [
  {
   "cell_type": "code",
   "execution_count": 1,
   "metadata": {},
   "outputs": [
    {
     "name": "stdout",
     "output_type": "stream",
     "text": [
      "hey\n",
      "Epoch 1/3\n",
      "1875/1875 [==============================] - 6s 3ms/step - loss: 0.2572 - accuracy: 0.9245\n",
      "Epoch 2/3\n",
      "1875/1875 [==============================] - 6s 3ms/step - loss: 0.1056 - accuracy: 0.9676\n",
      "Epoch 3/3\n",
      "1875/1875 [==============================] - 5s 3ms/step - loss: 0.0729 - accuracy: 0.9772\n",
      "1875/1875 [==============================] - 4s 2ms/step - loss: 0.0556 - accuracy: 0.9825\n",
      "313/313 [==============================] - 1s 3ms/step - loss: 0.1056 - accuracy: 0.9673\n",
      "training loss: 0.055571671575307846\n",
      "val_loss: 0.10561703145503998\n",
      "training accuracy: 0.9824833273887634\n",
      "val accuracy: 0.9672999978065491\n",
      "INFO:tensorflow:Assets written to: handwritten.model/assets\n"
     ]
    }
   ],
   "source": [
    "#import sys\n",
    "#sys.path.append(\"..\")\n",
    "from exercise10 import machine_trainer\n",
    "\n",
    "mt = machine_trainer()\n",
    "\n",
    "# Train machines with their respective datasets\n",
    "\n",
    "mt.make_and_save_mnist_model()\n",
    "\n"
   ]
  },
  {
   "cell_type": "code",
   "execution_count": null,
   "metadata": {},
   "outputs": [],
   "source": []
  },
  {
   "cell_type": "code",
   "execution_count": null,
   "metadata": {},
   "outputs": [],
   "source": []
  }
 ],
 "metadata": {
  "kernelspec": {
   "display_name": "Python 3",
   "language": "python",
   "name": "python3"
  },
  "language_info": {
   "codemirror_mode": {
    "name": "ipython",
    "version": 3
   },
   "file_extension": ".py",
   "mimetype": "text/x-python",
   "name": "python",
   "nbconvert_exporter": "python",
   "pygments_lexer": "ipython3",
   "version": "3.7.6"
  }
 },
 "nbformat": 4,
 "nbformat_minor": 2
}
