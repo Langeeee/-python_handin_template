{
 "cells": [
  {
   "cell_type": "markdown",
   "metadata": {},
   "source": [
    "# Week 4 handin"
   ]
  },
  {
   "cell_type": "markdown",
   "metadata": {},
   "source": []
  },
  {
   "cell_type": "markdown",
   "metadata": {},
   "source": [
    "## 02 Status\n"
   ]
  },
  {
   "cell_type": "markdown",
   "metadata": {},
   "source": [
    "## Exercise 1 "
   ]
  },
  {
   "cell_type": "code",
   "execution_count": 1,
   "metadata": {},
   "outputs": [
    {
     "name": "stdout",
     "output_type": "stream",
     "text": [
      "[[2015    1    0 5100  614]\n",
      " [2015    1    0 5104    2]\n",
      " [2015    1    0 5106    1]\n",
      " ...\n",
      " [1992   99   89 5100    1]\n",
      " [1992   99   90 5180    1]\n",
      " [1992   99   93 5100    1]]\n"
     ]
    }
   ],
   "source": [
    "# 1  and 2 2\n",
    "import numpy as np\n",
    "\n",
    "filename = '../data/befkbhalderstatkode.csv'\n",
    "population_data = np.genfromtxt(filename, delimiter=',', dtype=np.uint, skip_header=1)\n",
    "print(population_data)"
   ]
  },
  {
   "cell_type": "code",
   "execution_count": 4,
   "metadata": {},
   "outputs": [
    {
     "name": "stdout",
     "output_type": "stream",
     "text": [
      "Indre By : 51937\n",
      "Østerbro : 75113\n",
      "Nørrebro : 78802\n",
      "Vesterbro/Kgs. Enghave : 61623\n",
      "Valby : 51727\n",
      "Vanløse : 39537\n",
      "Brønshøj-Husum : 43908\n",
      "Bispebjerg : 53604\n",
      "Amager Øst : 55205\n",
      "Amager Vest : 64967\n",
      "Udenfor : 3872\n"
     ]
    }
   ],
   "source": [
    "# 3\n",
    "neighb = {1: 'Indre By', 2: 'Østerbro', 3: 'Nørrebro', 4: 'Vesterbro/Kgs. Enghave', \n",
    "       5: 'Valby', 6: 'Vanløse', 7: 'Brønshøj-Husum', 8: 'Bispebjerg', 9: 'Amager Øst', \n",
    "       10: 'Amager Vest', 99: 'Udenfor'}\n",
    "dd = population_data\n",
    "\n",
    "def get_pop_by_area(neighborhoods, mask):\n",
    "    sum_of_people = {}\n",
    "    for neighborhood in neighborhoods.keys():\n",
    "        people = dd[mask & (dd[:,1] == neighborhood)] \n",
    "        sum_of_people[neighborhoods[neighborhood]] = people[:,4].sum()\n",
    "    return sum_of_people\n",
    "\n",
    "def print_dict(dic):\n",
    "    for key, value in dic.items():\n",
    "        print(key, \":\" ,value)\n",
    "        \n",
    "mask = (dd[:,0] == 2015)\n",
    "print_dict(get_pop_by_area(neighb, mask))\n"
   ]
  },
  {
   "cell_type": "code",
   "execution_count": 5,
   "metadata": {
    "scrolled": true
   },
   "outputs": [
    {
     "data": {
      "text/plain": [
       "Text(0.5, 1.0, 'Size of city areas')"
      ]
     },
     "execution_count": 5,
     "metadata": {},
     "output_type": "execute_result"
    },
    {
     "data": {
      "image/png": "[encoded data removed]",
      "text/plain": [
       "<Figure size 432x288 with 1 Axes>"
      ]
     },
     "metadata": {
      "needs_background": "light"
     },
     "output_type": "display_data"
    }
   ],
   "source": [
    "# 4\n",
    "import matplotlib.pyplot as plt\n",
    "\n",
    "data = get_pop_by_area(neighb, mask)\n",
    "population = sorted(data.values()) \n",
    "areas = sorted(data, key=data.get)\n",
    "\n",
    "plt.bar(areas, population)\n",
    "plt.xticks(rotation=90)\n",
    "plt.title(\"Size of city areas\")"
   ]
  },
  {
   "cell_type": "code",
   "execution_count": 6,
   "metadata": {},
   "outputs": [
    {
     "name": "stdout",
     "output_type": "stream",
     "text": [
      "Indre By : 6818\n",
      "Østerbro : 8370\n",
      "Nørrebro : 5059\n",
      "Vesterbro/Kgs. Enghave : 3984\n",
      "Valby : 5397\n",
      "Vanløse : 4668\n",
      "Brønshøj-Husum : 5461\n",
      "Bispebjerg : 4945\n",
      "Amager Øst : 5027\n",
      "Amager Vest : 5971\n",
      "Udenfor : 50\n"
     ]
    }
   ],
   "source": [
    "\n",
    "# 5\n",
    "mask = (dd[:,0] == 2015) & (dd[:,2] > 65)\n",
    "\n",
    "print_dict(get_pop_by_area(neighb, mask))"
   ]
  },
  {
   "cell_type": "code",
   "execution_count": 7,
   "metadata": {},
   "outputs": [
    {
     "name": "stdout",
     "output_type": "stream",
     "text": [
      "Indre By : 131\n",
      "Østerbro : 111\n",
      "Nørrebro : 57\n",
      "Vesterbro/Kgs. Enghave : 43\n",
      "Valby : 41\n",
      "Vanløse : 28\n",
      "Brønshøj-Husum : 43\n",
      "Bispebjerg : 45\n",
      "Amager Øst : 41\n",
      "Amager Vest : 66\n",
      "Udenfor : 2\n"
     ]
    }
   ],
   "source": [
    "# 6\n",
    "def get_elder_in_nordic_countries():\n",
    "    nordic_countries = [5101,5104,5106,5110,5120]\n",
    "    elders = {}\n",
    "    for nc in nordic_countries:\n",
    "        mask = (dd[:,0] == 2015) & (dd[:,2] > 65) & (dd[:,3] == nc) \n",
    "        temp_elders = get_pop_by_area(neighb, mask)\n",
    "        if elders == {}:\n",
    "            elders.update(temp_elders)\n",
    "        else:\n",
    "            for key, value in temp_elders.items():\n",
    "                elders[key] += value\n",
    "    return elders\n",
    "    \n",
    "print_dict(get_elder_in_nordic_countries())"
   ]
  },
  {
   "cell_type": "code",
   "execution_count": 8,
   "metadata": {},
   "outputs": [
    {
     "data": {
      "text/plain": [
       "<matplotlib.legend.Legend at 0x7f6cab28c3d0>"
      ]
     },
     "execution_count": 8,
     "metadata": {},
     "output_type": "execute_result"
    },
    {
     "data": {
      "image/png": "[encoded data removed]",
      "text/plain": [
       "<Figure size 432x288 with 1 Axes>"
      ]
     },
     "metadata": {
      "needs_background": "light"
     },
     "output_type": "display_data"
    }
   ],
   "source": [
    "\n",
    "# 7\n",
    "city_østerbro = (dd[:,1] == 2) \n",
    "city_vesterbro = (dd[:,1] == 4) \n",
    "set_of_years = np.unique(dd[:,0])\n",
    "østerbro = np.array([np.sum(dd[city_østerbro & (dd[:,0] == year)][:,4]) \n",
    "                      for year in set_of_years])\n",
    "vesterbro = np.array([np.sum(dd[city_vesterbro & (dd[:,0] == year)][:,4]) \n",
    "                      for year in set_of_years])\n",
    "\n",
    "p1 = plt.plot(set_of_years, østerbro, linewidth=4, label=\"Østerbro\")\n",
    "p2 = plt.plot(set_of_years, vesterbro, linewidth=4, label=\"Vesterbro\")\n",
    "plt.title(\"Population over time\")\n",
    "plt.xticks(rotation=90)\n",
    "plt.legend()"
   ]
  }
 ],
 "metadata": {
  "kernelspec": {
   "display_name": "Python 3",
   "language": "python",
   "name": "python3"
  },
  "language_info": {
   "codemirror_mode": {
    "name": "ipython",
    "version": 3
   },
   "file_extension": ".py",
   "mimetype": "text/x-python",
   "name": "python",
   "nbconvert_exporter": "python",
   "pygments_lexer": "ipython3",
   "version": "3.7.6"
  }
 },
 "nbformat": 4,
 "nbformat_minor": 4
}
