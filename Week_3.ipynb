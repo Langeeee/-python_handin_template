{
 "cells": [
  {
   "cell_type": "markdown",
   "metadata": {},
   "source": [
    "# Week 3 handin"
   ]
  },
  {
   "cell_type": "markdown",
   "metadata": {},
   "source": []
  },
  {
   "cell_type": "markdown",
   "metadata": {},
   "source": [
    "## 02 Status\n",
    "Here is a status on the handin. How far you got. What is implemented and what is not"
   ]
  },
  {
   "cell_type": "markdown",
   "metadata": {},
   "source": [
    "## 03 Solution part 1"
   ]
  },
  {
   "cell_type": "code",
   "execution_count": 1,
   "metadata": {},
   "outputs": [],
   "source": [
    "# 1.1 some code here with docstrings\n",
    "\n",
    "class Student():\n",
    "    \"\"\"A student\"\"\"\n",
    "\n",
    "    def __init__(self, name, gender, data_sheet, image_url):\n",
    "\n",
    "        self.name = name\n",
    "        self.gender = gender\n",
    "        self.data_sheet = data_sheet\n",
    "        self.image_url = image_url\n",
    "    \n",
    "    def get_avg_grade(self):\n",
    "        grades = self.data_sheet.get_grades_as_list()\n",
    "        return round((sum(grades) / len(grades)), 2)\n",
    "    \n",
    "    def get_study_progression(self):\n",
    "        return (self.data_sheet.get_all_ects() / 150) * 100\n",
    "    \n",
    "    def get_courses(self):\n",
    "        return self.data_sheet.courses\n",
    "\n",
    "    def __repr__(self):\n",
    "        return 'Student(%r, %r, %r, %r)' % (self.name, self.gender, self.data_sheet, self.image_url)\n",
    "\n",
    "    def __str__(self):\n",
    "        return '%r is a %r student. %r. Image URL: %r' % (self.name, self.gender, self.data_sheet, self.image_url)\n",
    "\n",
    "\n",
    "class DataSheet():\n",
    "\n",
    "    def __init__(self, courses):\n",
    "        self.courses = courses\n",
    "\n",
    "    def get_grades_as_list(self):\n",
    "        return [course.grade for course in self.courses]\n",
    "    \n",
    "    def get_all_ects(self):\n",
    "        return sum(course.ECTS for course in self.courses)\n",
    "\n",
    "    def __repr__(self):\n",
    "        return 'Datasheet(%r)' % (self.courses)\n",
    "\n",
    "    def __str__(self):\n",
    "        return 'Courses attended: %r' % (self.courses)\n",
    "\n",
    "\n",
    "class Course():\n",
    "    \"\"\"A course\"\"\"\n",
    "\n",
    "    def __init__(self, name, classroom, teacher, ETCS, grade):\n",
    "        self.name = name\n",
    "        self.classroom = classroom\n",
    "        self.teacher = teacher\n",
    "        self.ECTS = ETCS\n",
    "        self.grade = grade\n",
    "\n",
    "    def __repr__(self):\n",
    "        return 'Course(%r, %r, %r, %r, %r)' % (self.name, self.classroom, self.teacher, self.ECTS, self.grade)\n",
    "\n",
    "    def __str__(self):\n",
    "        return '%r in %r with %r. ETCs for the course: %r. Grade: %r' % (self.name, self.classroom, self.teacher, self.ECTS, self.grade)"
   ]
  },
  {
   "cell_type": "code",
   "execution_count": 2,
   "metadata": {},
   "outputs": [
    {
     "name": "stdout",
     "output_type": "stream",
     "text": [
      "[Student('Jane Kurt', 'other', Datasheet([('History', 'C-105', 'Billy', 20, 2), ('Math', 'C-162', 'Bob', 50, 0), ('Programming', 'C-162', 'Rex', 10, 2), ('PE', 'C-105', 'Anne', 40, 12)]), 'picture0.jpg'), Student('John Johnson', 'male', Datasheet([('Programming', 'C-102', 'Jane', 50, 2)]), 'picture1.jpg'), Student('Billy Smith', 'other', Datasheet([('English', 'C-265', 'Susan', 10, 2), ('History', 'C-265', 'Jack', 20, 12), ('Security', 'C-102', 'John', 10, 2), ('Programming', 'C-265', 'Susan', 50, 10), ('Math', 'C-265', 'Jane', 20, 7)]), 'picture2.jpg'), Student('Jane Smith', 'male', Datasheet([('Programming', 'C-105', 'Josephine', 30, 12), ('English', 'C-162', 'George', 50, -3), ('Security', 'C-102', 'Jane', 50, 10)]), 'picture3.jpg'), Student('Anne Johnson', 'female', Datasheet([('Math', 'C-265', 'John', 50, 0), ('English', 'C-105', 'Billy', 50, 0)]), 'picture4.jpg'), Student('Jack Black', 'male', Datasheet([('Programming', 'C-162', 'Jack', 50, 4), ('English', 'C-102', 'Jack', 40, 0), ('PE', 'C-265', 'Josephine', 40, -3), ('Security', 'C-162', 'Jack', 50, 2)]), 'picture5.jpg'), Student('John Jensen', 'male', Datasheet([('Security', 'C-162', 'Billy', 50, -3), ('Programming', 'C-105', 'Jack', 40, 10), ('English', 'C-162', 'Josephine', 30, -3)]), 'picture6.jpg'), Student('Billy Black', 'male', Datasheet([('English', 'C-265', 'Rex', 50, 0), ('History', 'C-265', 'Jane', 40, -3), ('Programming', 'C-102', 'Josephine', 40, 0), ('PE', 'C-105', 'Rex', 10, -3)]), 'picture7.jpg'), Student('Bob Black', 'male', Datasheet([('PE', 'C-102', 'Anne', 30, -3), ('History', 'C-265', 'Anne', 10, 0), ('Math', 'C-162', 'John', 10, 4)]), 'picture8.jpg'), Student('George Black', 'other', Datasheet([('Programming', 'C-102', 'John', 40, 2), ('English', 'C-105', 'Anne', 50, -3), ('Security', 'C-265', 'Jane', 10, 7), ('Math', 'C-102', 'George', 30, 2)]), 'picture9.jpg'), Student('Anne Kurt', 'other', Datasheet([('Programming', 'C-102', 'John', 40, -3), ('English', 'C-265', 'Susan', 30, -3), ('Math', 'C-105', 'Rex', 40, 0), ('History', 'C-265', 'Jessica', 50, 4)]), 'picture10.jpg'), Student('Billy Doe', 'other', Datasheet([('Programming', 'C-105', 'Jessica', 20, -3), ('English', 'C-265', 'Rex', 30, 7), ('PE', 'C-105', 'Josephine', 30, 12), ('History', 'C-105', 'Bob', 30, -3), ('Math', 'C-162', 'George', 40, 12)]), 'picture11.jpg'), Student('Anne Black', 'female', Datasheet([('Math', 'C-105', 'Rex', 30, -3), ('PE', 'C-105', 'John', 40, 10), ('Programming', 'C-162', 'Jack', 40, 10), ('History', 'C-265', 'Billy', 40, 2)]), 'picture12.jpg'), Student('Billy Johnson', 'male', Datasheet([('History', 'C-105', 'John', 50, 12), ('Security', 'C-105', 'Jessica', 20, 0), ('PE', 'C-162', 'Rex', 50, 12)]), 'picture13.jpg'), Student('George Doe', 'female', Datasheet([('Security', 'C-105', 'Jessica', 20, 4), ('History', 'C-105', 'George', 50, 7), ('PE', 'C-102', 'Josephine', 10, -3), ('Math', 'C-105', 'Josephine', 10, 2), ('English', 'C-102', 'Jessica', 40, -3)]), 'picture14.jpg')]\n"
     ]
    }
   ],
   "source": [
    "import random\n",
    "import csv\n",
    "\n",
    "def generate_students(s):\n",
    "    students = []\n",
    "    f_names = ['John', 'Jane', 'Jessica', 'Jack', 'Bob', 'Billy', 'Josephine', 'Anne', 'Susan', 'George', 'Rex']\n",
    "    l_names = ['Doe', 'Smith', 'Jensen', 'Black', 'Johnson', 'Kurt']\n",
    "    genders = ['female', 'male', 'other']\n",
    "    grades = [-3, 0, 2, 4, 7, 10, 12]\n",
    "    course_names = ['Math', 'English', 'History', 'PE', 'Programming', 'Security']\n",
    "    classrooms = ['C-105', 'C-162', 'C-102', 'C-265']\n",
    "    \n",
    "    for i in range(s):\n",
    "        no_courses = random.choice(range(5)) + 1\n",
    "        courses = []\n",
    "        for course_name in random.sample(course_names, no_courses):\n",
    "            courses.append((course_name, \n",
    "            random.choice(classrooms), random.choice(f_names), ((random.choice(range(5)) + 1) * 10), random.choice(grades)))\n",
    "        image_url = 'picture' + str(i) + '.jpg'\n",
    "        name = random.choice(f_names) + ' ' + random.choice(l_names)\n",
    "        student = Student(name, random.choice(genders), DataSheet(courses), image_url)  \n",
    "        students.append(student)\n",
    "    return students\n",
    "\n",
    "students = generate_students(15)\n",
    "print(students)\n",
    "\n",
    "\n"
   ]
  },
  {
   "cell_type": "code",
   "execution_count": 3,
   "metadata": {
    "scrolled": true
   },
   "outputs": [
    {
     "ename": "AttributeError",
     "evalue": "'tuple' object has no attribute 'name'",
     "output_type": "error",
     "traceback": [
      "\u001b[0;31m---------------------------------------------------------------------------\u001b[0m",
      "\u001b[0;31mAttributeError\u001b[0m                            Traceback (most recent call last)",
      "\u001b[0;32m<ipython-input-3-f21c4025ad44>\u001b[0m in \u001b[0;36m<module>\u001b[0;34m\u001b[0m\n\u001b[1;32m     11\u001b[0m                 'img_url': student.image_url})\n\u001b[1;32m     12\u001b[0m \u001b[0;34m\u001b[0m\u001b[0m\n\u001b[0;32m---> 13\u001b[0;31m \u001b[0mwrite_students_to_csv\u001b[0m\u001b[0;34m(\u001b[0m\u001b[0mstudents\u001b[0m\u001b[0;34m)\u001b[0m\u001b[0;34m\u001b[0m\u001b[0;34m\u001b[0m\u001b[0m\n\u001b[0m\u001b[1;32m     14\u001b[0m \u001b[0;34m\u001b[0m\u001b[0m\n",
      "\u001b[0;32m<ipython-input-3-f21c4025ad44>\u001b[0m in \u001b[0;36mwrite_students_to_csv\u001b[0;34m(students, out)\u001b[0m\n\u001b[1;32m      7\u001b[0m             \u001b[0mcourses\u001b[0m \u001b[0;34m=\u001b[0m \u001b[0mstudent\u001b[0m\u001b[0;34m.\u001b[0m\u001b[0mdata_sheet\u001b[0m\u001b[0;34m.\u001b[0m\u001b[0mcourses\u001b[0m\u001b[0;34m\u001b[0m\u001b[0;34m\u001b[0m\u001b[0m\n\u001b[1;32m      8\u001b[0m             \u001b[0;32mfor\u001b[0m \u001b[0mcourse\u001b[0m \u001b[0;32min\u001b[0m \u001b[0mcourses\u001b[0m\u001b[0;34m:\u001b[0m\u001b[0;34m\u001b[0m\u001b[0;34m\u001b[0m\u001b[0m\n\u001b[0;32m----> 9\u001b[0;31m                 writer.writerow({'stud_name': student.name, 'course_name': course.name, 'teacher': course.teacher, 'gender':\n\u001b[0m\u001b[1;32m     10\u001b[0m                 \u001b[0mstudent\u001b[0m\u001b[0;34m.\u001b[0m\u001b[0mgender\u001b[0m\u001b[0;34m,\u001b[0m \u001b[0;34m'ects'\u001b[0m\u001b[0;34m:\u001b[0m \u001b[0mcourse\u001b[0m\u001b[0;34m.\u001b[0m\u001b[0mECTS\u001b[0m\u001b[0;34m,\u001b[0m \u001b[0;34m'classroom'\u001b[0m\u001b[0;34m:\u001b[0m \u001b[0mcourse\u001b[0m\u001b[0;34m.\u001b[0m\u001b[0mclassroom\u001b[0m\u001b[0;34m,\u001b[0m \u001b[0;34m'grade'\u001b[0m\u001b[0;34m:\u001b[0m \u001b[0mcourse\u001b[0m\u001b[0;34m.\u001b[0m\u001b[0mgrade\u001b[0m\u001b[0;34m,\u001b[0m\u001b[0;34m\u001b[0m\u001b[0;34m\u001b[0m\u001b[0m\n\u001b[1;32m     11\u001b[0m                 'img_url': student.image_url})\n",
      "\u001b[0;31mAttributeError\u001b[0m: 'tuple' object has no attribute 'name'"
     ]
    }
   ],
   "source": [
    "def write_students_to_csv(students, out='students.csv'):\n",
    "    with open(out, 'w') as csv_file:\n",
    "        fieldnames = ['stud_name', 'course_name', 'teacher', 'gender', 'ects', 'classroom', 'grade', 'img_url']\n",
    "        writer = csv.DictWriter(csv_file, fieldnames=fieldnames)\n",
    "        writer.writeheader()\n",
    "        for student in students:\n",
    "            courses = student.data_sheet.courses\n",
    "            for course in courses:\n",
    "                writer.writerow({'stud_name': student.name, 'course_name': course.name, 'teacher': course.teacher, 'gender':\n",
    "                student.gender, 'ects': course.ECTS, 'classroom': course.classroom, 'grade': course.grade,\n",
    "                'img_url': student.image_url})\n",
    "\n",
    "write_students_to_csv(students)\n",
    "\n"
   ]
  },
  {
   "cell_type": "code",
   "execution_count": null,
   "metadata": {},
   "outputs": [],
   "source": [
    "def read_students_from_csv(csv_file):\n",
    "    students = []\n",
    "    with open(csv_file, 'r') as file_object:\n",
    "        reader = csv.DictReader(file_object)\n",
    "        courses = []\n",
    "        student_name = ''\n",
    "        former_name = ''\n",
    "        former_gender = ''\n",
    "        former_image = ''\n",
    "        for row in reader:\n",
    "            student_name = row['stud_name']\n",
    "            gender = row['gender']\n",
    "            image = row['img_url']\n",
    "            if student_name == former_name or former_name == '':\n",
    "                courses.append(Course(row['course_name'], row['classroom'], row['teacher'], row['ects'], row['grade']))\n",
    "            else:\n",
    "                data_sheet = DataSheet(courses)\n",
    "                students.append(Student(former_name, former_gender, data_sheet, former_image))\n",
    "                courses = []\n",
    "                courses.append(Course(row['course_name'], row['classroom'], row['teacher'], row['ects'], row['grade']))\n",
    "            former_name = student_name\n",
    "            former_gender = gender\n",
    "            former_image = image\n",
    "    return students\n",
    "\n",
    "read_students_from_csv('students.csv')"
   ]
  },
  {
   "cell_type": "markdown",
   "metadata": {},
   "source": [
    "## 04 Solution part 2"
   ]
  },
  {
   "cell_type": "code",
   "execution_count": null,
   "metadata": {},
   "outputs": [],
   "source": [
    "def print_student(students):\n",
    "    for student in students:\n",
    "        print('Name of student: %s. Image URL: %s. Average grade: %s' % (student.name, student.image_url, \n",
    "                                                                         student.get_avg_grade()))\n",
    "\n",
    "print_student(students)"
   ]
  },
  {
   "cell_type": "code",
   "execution_count": null,
   "metadata": {},
   "outputs": [],
   "source": [
    "def sort_by_avg_grade(students):\n",
    "    for student in sorted(students, key=Student.get_avg_grade, reverse=True):\n",
    "        print('Name of student: %s. Average grade: %s' % (student.name, student.get_avg_grade()))\n",
    "\n",
    "sort_by_avg_grade(students)"
   ]
  },
  {
   "cell_type": "code",
   "execution_count": null,
   "metadata": {},
   "outputs": [],
   "source": [
    "import matplotlib.pyplot as plt\n",
    "\n",
    "def show_avg_grade_bar_chart(students):\n",
    "    student_names = [student.name for student in students]\n",
    "    avg_grades = [student.get_avg_grade() for student in students]\n",
    "    plt.bar(student_names, avg_grades, width=0.5, align='center')\n",
    "    plt.xticks(rotation=45, horizontalalignment='right',fontweight='light')\n",
    "    plt.title('Student average grade')\n",
    "    plt.show()\n",
    "\n",
    "show_avg_grade_bar_chart(students)"
   ]
  },
  {
   "cell_type": "code",
   "execution_count": null,
   "metadata": {},
   "outputs": [],
   "source": [
    "for student in students:\n",
    "    print(student.name + ' has completed ' + str(student.get_study_progression()) + ' %')"
   ]
  },
  {
   "cell_type": "code",
   "execution_count": null,
   "metadata": {},
   "outputs": [],
   "source": [
    "import matplotlib.pyplot as plt\n",
    "\n",
    "def get_dict_of_study_prog(students):\n",
    "    progression = {}\n",
    "    category_steps = [100, 90, 80, 70, 60, 50, 40, 30, 20, 10, 0]\n",
    "    for student in students:\n",
    "        rounded_study_prog = round(student.get_study_progression() / 10) * 10\n",
    "        for category in category_steps:\n",
    "            if rounded_study_prog == category:\n",
    "                progression.setdefault(category, 0)\n",
    "                progression[category] += 1\n",
    "    return progression\n",
    "\n",
    "def show_study_progression_bar_chart(progression):\n",
    "    plt.bar(progression.keys(), progression.values(), width = 2.5)\n",
    "    plt.xticks()\n",
    "    plt.xlabel('Progression in %')\n",
    "    plt.ylabel('Amount of students')\n",
    "    plt.title('Student study progres in %')\n",
    "    plt.show()\n",
    "\n",
    "show_study_progression_bar_chart(get_dict_of_study_prog(students))"
   ]
  },
  {
   "cell_type": "code",
   "execution_count": null,
   "metadata": {},
   "outputs": [],
   "source": []
  },
  {
   "cell_type": "code",
   "execution_count": null,
   "metadata": {},
   "outputs": [],
   "source": []
  },
  {
   "cell_type": "code",
   "execution_count": null,
   "metadata": {},
   "outputs": [],
   "source": []
  }
 ],
 "metadata": {
  "kernelspec": {
   "display_name": "Python 3",
   "language": "python",
   "name": "python3"
  },
  "language_info": {
   "codemirror_mode": {
    "name": "ipython",
    "version": 3
   },
   "file_extension": ".py",
   "mimetype": "text/x-python",
   "name": "python",
   "nbconvert_exporter": "python",
   "pygments_lexer": "ipython3",
   "version": "3.7.6"
  }
 },
 "nbformat": 4,
 "nbformat_minor": 4
}
