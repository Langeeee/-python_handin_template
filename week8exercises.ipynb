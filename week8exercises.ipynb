{
 "cells": [
  {
   "cell_type": "code",
   "execution_count": null,
   "metadata": {},
   "outputs": [],
   "source": [
    "# 1,2 & 3\n",
    "import exercise08 as e8\n",
    "df = e8.ex08.download_cars('https://think.cs.vt.edu/corgis/datasets/csv/cars/cars.csv')\n",
    "df.head"
   ]
  },
  {
   "cell_type": "markdown",
   "metadata": {},
   "source": [
    "#FEATURE ENGINEERING\n",
    "#1\n",
    "make_only_honda = df[df['Identification.Make'] != 'Honda'].index\n",
    "df.drop(make_only_honda, inplace = True)\n",
    "\n",
    "#2\n",
    "fuel_only_gasoline = df[df['Fuel Information.Fuel Type'] != 'Gasoline'].index\n",
    "df.drop(fuel_only_gasoline, inplace = True)\n",
    "\n",
    "#3\n",
    "#Don't understand the question\n",
    "df['Engine Information.Engine Statistics.Horsepower'] < df['Engine Information.Engine Statistics.Horsepower'].quantile(0.90)\n",
    "df"
   ]
  },
  {
   "cell_type": "markdown",
   "metadata": {},
   "source": [
    "#5 don't understand why function can't be found???\n",
    "from sklearn import preprocessing\n",
    "scaler = preprocessing.MinMaxScaler()\n",
    "names = [df['Fuel Information.Highway mpg'], df['Engine Information.Engine Statistics.Horsepower']]\n",
    "d = scaler.fit_transfom(df)\n",
    "scaled_df = pd.DataFrame(d, columns=names)\n",
    "scaled_df"
   ]
  },
  {
   "cell_type": "markdown",
   "metadata": {},
   "source": [
    "#Linear reg 1\n",
    "import numpy as np\n",
    "%matplotlib inline\n",
    "df.plot(x=16, y=10)"
   ]
  },
  {
   "cell_type": "markdown",
   "metadata": {},
   "source": [
    "#2 \n",
    "import sklearn.linear_model\n",
    "xs = df['Engine Information.Engine Statistics.Horsepower']\n",
    "ys = df['Fuel Information.Highway mpg']\n",
    "xs_reshape = np.array(xs).reshape(-1,1)\n",
    "model = sklearn.linear_model.LinearRegression()\n",
    "model.fit(xs_reshape, ys)\n",
    "model.coef_\n",
    "#This describes how the line moves along the y-axis pr x you go on x-axis"
   ]
  },
  {
   "cell_type": "markdown",
   "metadata": {},
   "source": [
    "#3\n",
    "#when x is 250 y is 25 so going by that\n",
    "intercept = (25-(-0.07521521*250))\n",
    "print(intercept)\n",
    "y = -0.07521521*1+43.8038025\n",
    "print(y)"
   ]
  },
  {
   "cell_type": "markdown",
   "metadata": {},
   "source": [
    "#4\n",
    "import matplotlib.pyplot as plt\n",
    "plt.plot(xs, ys, 'o')\n",
    "\n",
    "m, b = np.polyfit(xs,ys,1)\n",
    "\n",
    "plt.plot(xs,m*xs +b)"
   ]
  }
 ],
 "metadata": {
  "language_info": {
   "name": "plaintext"
  },
  "orig_nbformat": 4
 },
 "nbformat": 4,
 "nbformat_minor": 2
}
