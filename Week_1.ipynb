{
 "cells": [
  {
   "cell_type": "markdown",
   "metadata": {},
   "source": [
    "# Week 1 handin"
   ]
  },
  {
   "cell_type": "markdown",
   "metadata": {},
   "source": [
    "## 01 Assignment\n",
    "\n",
    "Exercise¶\n",
    "1. Create 5 list comprehensions to solve the following 5 problems:\n",
    "\n",
    "A) Iterate a list of names to return a list of the names starting with H\n",
    "B) In one line create a list of the numbers 1-100 to the power of 3\n",
    "c) Iterate a list of names to create a list of tuples where the tuples first value is the length of the name and the second is     the name\n",
    "D) Iterate over each character in a string and get only those that are nummeric\n",
    "E) Using only a list comprehension wrapped in set() get all possible combination from throwing 2 dice (hint use 2 for loops in     a single list comprehension)\n",
    "\n",
    "2. Create 2 dictionary comprehensions to solve the following:\n",
    "\n",
    "A) Iterate a list of names and create a dictionary where key is the name and value is the length of the name\n",
    "b) Iterate a list of numbers and create a dictionary with {key:value} being {number:squareroot_of_number}\n",
    "\n",
    "3. Extra assignment (This one goes beyond what is covered in the course notebooks. So only do it if you want an extra challenge).\n",
    "\n",
    "Progammatically using loops create a small program to produce a dictionary with all the 2 dice throw combinations as keys (eg: 2,3,4...etc) and their likelyhood in percent as values"
   ]
  },
  {
   "cell_type": "markdown",
   "metadata": {},
   "source": [
    "## 02 Status\n",
    "Here is a status on the handin. How far you got. What is implemented and what is not"
   ]
  },
  {
   "cell_type": "markdown",
   "metadata": {},
   "source": [
    "## 01 "
   ]
  },
  {
   "cell_type": "code",
   "execution_count": 52,
   "metadata": {},
   "outputs": [
    {
     "name": "stdout",
     "output_type": "stream",
     "text": [
      "The original list : ['Simon', 'Henrik', 'Emil', 'Helene']\n",
      "The list with names starting with h : ['Henrik', 'Helene']\n"
     ]
    }
   ],
   "source": [
    "# 1 a) Iterate a list of names to return a list of the names starting with H\n",
    "\n",
    "names = ['Simon', 'Henrik', 'Emil', 'Helene']\n",
    "start_letter = 'H'\n",
    "\n",
    "print(\"The original list : \" + str(names))\n",
    "\n",
    "with_h = [n for n in names if n.startswith(start_letter)]\n",
    "\n",
    "print(\"The list with names starting with h : \" + str(with_h))\n"
   ]
  },
  {
   "cell_type": "code",
   "execution_count": 14,
   "metadata": {},
   "outputs": [
    {
     "name": "stdout",
     "output_type": "stream",
     "text": [
      "[1, 4, 7, 10, 13, 16, 19, 22, 25, 28, 31, 34, 37, 40, 43, 46, 49, 52, 55, 58, 61, 64, 67, 70, 73, 76, 79, 82, 85, 88, 91, 94, 97, 100]\n"
     ]
    }
   ],
   "source": [
    "# 1 b) In one line create a list of the numbers 1-100 to the power of 3\n",
    "\n",
    "numbers = list(range(1, 101, 3))\n",
    "\n",
    "print(numbers)\n"
   ]
  },
  {
   "cell_type": "code",
   "execution_count": 43,
   "metadata": {},
   "outputs": [
    {
     "name": "stdout",
     "output_type": "stream",
     "text": [
      "[(5, 'Simon'), (6, 'Henrik'), (4, 'Emil'), (6, 'Helene')]\n"
     ]
    }
   ],
   "source": [
    "# 1 c) Iterate a list of names to create a list of tuples where the tuples first value is the length ofthe name and the second is the name\n",
    "names = ['Simon', 'Henrik', 'Emil', 'Helene']\n",
    "\n",
    "result = [(len(name), name) for name in names]\n",
    "print(result)\n",
    "\n",
    "\n",
    "\n"
   ]
  },
  {
   "cell_type": "code",
   "execution_count": 50,
   "metadata": {},
   "outputs": [
    {
     "name": "stdout",
     "output_type": "stream",
     "text": [
      "1\n",
      "3\n",
      "4\n",
      "7\n",
      "6\n",
      "5\n"
     ]
    }
   ],
   "source": [
    "# 1 d) Iterate over each character in a string and get only those that are nummeric\n",
    "string = \"asd13fsdf4gdf7h6h5\"\n",
    "for e in string:\n",
    "    if e.isdigit():\n",
    "        print(e)\n"
   ]
  },
  {
   "cell_type": "code",
   "execution_count": 54,
   "metadata": {},
   "outputs": [
    {
     "name": "stdout",
     "output_type": "stream",
     "text": [
      "[(1, 1), (1, 2), (1, 3), (1, 4), (1, 5), (1, 6), (2, 1), (2, 2), (2, 3), (2, 4), (2, 5), (2, 6), (3, 1), (3, 2), (3, 3), (3, 4), (3, 5), (3, 6), (4, 1), (4, 2), (4, 3), (4, 4), (4, 5), (4, 6), (5, 1), (5, 2), (5, 3), (5, 4), (5, 5), (5, 6), (6, 1), (6, 2), (6, 3), (6, 4), (6, 5), (6, 6)]\n"
     ]
    }
   ],
   "source": [
    "# 1 e) Using only a list comprehension wrapped in set() get all possible combination from throwing 2 dice (hint use 2 for loops in a single list comprehension)\n",
    "combinations = [(dice1, dice2) for dice1 in range(1,7) for dice2 in range(1,7)]\n",
    "print(combinations)"
   ]
  },
  {
   "cell_type": "markdown",
   "metadata": {},
   "source": [
    "## 02"
   ]
  },
  {
   "cell_type": "code",
   "execution_count": 62,
   "metadata": {},
   "outputs": [
    {
     "name": "stdout",
     "output_type": "stream",
     "text": [
      "{'Frederik': 8, 'Jacob': 5, 'Emil': 4, 'Helene': 6}\n"
     ]
    }
   ],
   "source": [
    "# 2 a) Iterate a list of names and create a dictionary where key is the name and value is the length of the name\n",
    "names = ['Frederik', 'Jacob', 'Emil', 'Helene']\n",
    "name_list = {n: len(n) for n in names}\n",
    "print (name_list)"
   ]
  },
  {
   "cell_type": "code",
   "execution_count": 67,
   "metadata": {},
   "outputs": [
    {
     "name": "stdout",
     "output_type": "stream",
     "text": [
      "{1: 1.0, 4: 2.0, 9: 3.0, 16: 4.0, 32: 5.656854249492381, 64: 8.0, 128: 11.313708498984761, 256: 16.0}\n"
     ]
    }
   ],
   "source": [
    "# 2 b) Iterate a list of numbers and create a dictionary with {key:value} being {number:squareroot_of_number}\n",
    "import math\n",
    "numbers = [1, 4, 9, 16, 32, 64, 128, 256]\n",
    "result = { n: math.sqrt(n) for n in numbers }\n",
    "\n",
    "print(result)\n",
    "\n"
   ]
  },
  {
   "cell_type": "code",
   "execution_count": null,
   "metadata": {},
   "outputs": [],
   "source": []
  },
  {
   "cell_type": "code",
   "execution_count": null,
   "metadata": {},
   "outputs": [],
   "source": []
  }
 ],
 "metadata": {
  "kernelspec": {
   "display_name": "Python 3",
   "language": "python",
   "name": "python3"
  },
  "language_info": {
   "codemirror_mode": {
    "name": "ipython",
    "version": 3
   },
   "file_extension": ".py",
   "mimetype": "text/x-python",
   "name": "python",
   "nbconvert_exporter": "python",
   "pygments_lexer": "ipython3",
   "version": "3.7.6"
  }
 },
 "nbformat": 4,
 "nbformat_minor": 4
}
