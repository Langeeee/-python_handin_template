{
 "cells": [
  {
   "cell_type": "code",
   "execution_count": null,
   "metadata": {},
   "outputs": [],
   "source": [
    "#1 & # 2\n",
    "import exercise06 as e6\n",
    "#i have done this exercise with only 3 book instead of 10, hope its ok\n",
    "booklist = ['https://www.gutenberg.org/files/84/84-0.txt',\n",
    "           'https://www.gutenberg.org/files/1342/1342-0.txt',\n",
    "           'https://www.gutenberg.org/ebooks/25344.txt.utf-8']\n",
    "comp = e6.TextComparer(booklist)\n",
    "count = 0\n",
    "\n",
    "for book in comp.url_list:\n",
    "    comp.download(book)\n",
    "    count += 1"
   ]
  },
  {
   "cell_type": "code",
   "execution_count": null,
   "metadata": {},
   "outputs": [],
   "source": [
    "#3\n",
    "comp.multi_download(comp.download, comp.url_list, 3)"
   ]
  },
  {
   "cell_type": "code",
   "execution_count": null,
   "metadata": {},
   "outputs": [],
   "source": [
    "#7\n",
    "listOfAvg = []\n",
    "for file in comp.multi_download(comp.download, comp.url_list, 3):\n",
    "    listOfAvg.append(comp.avg_vowels(file))\n",
    "    \n",
    "print(listOfAvg)"
   ]
  },
  {
   "cell_type": "code",
   "execution_count": null,
   "metadata": {},
   "outputs": [],
   "source": [
    "#8\n",
    "# cant get this working\n",
    "#hardest = comp.hardest_read(comp.avg_vowels(file), comp.multi_download(comp.download, comp.url_list, 3))\n",
    "#print(hardest)\n",
    "import matplotlib.pyplot as plt\n",
    "#Ex2 3\n",
    "names = []\n",
    "values = []\n",
    "for avg in listOfAvg:\n",
    "    values.append(avg[1])\n",
    "    names.append(avg[0]) \n",
    "print(names)\n",
    "print(values)\n",
    "\n",
    "plt.bar(names, values)\n",
    "plt.xticks(rotation=-90)\n",
    "plt.title('vowels pr book')\n",
    "plt.xlabel('book')\n",
    "plt.ylabel('vowels')\n",
    "plt.show()"
   ]
  }
 ],
 "metadata": {
  "language_info": {
   "name": "plaintext"
  },
  "orig_nbformat": 4
 },
 "nbformat": 4,
 "nbformat_minor": 2
}
