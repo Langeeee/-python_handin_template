{
 "cells": [
  {
   "cell_type": "code",
   "execution_count": 1,
   "metadata": {},
   "outputs": [
    {
     "name": "stdout",
     "output_type": "stream",
     "text": [
      "           0\n",
      "0       Abel\n",
      "1     Abiola\n",
      "2     Acelya\n",
      "3        Ada\n",
      "4      Adama\n",
      "...      ...\n",
      "1049     Zin\n",
      "1050  Ziyuan\n",
      "1051   Zulal\n",
      "1052   Aaria\n",
      "1053   Aarya\n",
      "\n",
      "[1054 rows x 1 columns]\n"
     ]
    }
   ],
   "source": [
    "from collections import namedtuple\n",
    "import pandas as pd\n",
    "\n",
    "df = pd.read_excel (r'Alle navne, der er godkendt som både drenge- og pigenavn per 2021-09-28.xls' ,header=None)\n",
    "Original_list = df\n",
    "print (Original_list)\n",
    "\n"
   ]
  },
  {
   "cell_type": "code",
   "execution_count": 2,
   "metadata": {},
   "outputs": [
    {
     "ename": "SyntaxError",
     "evalue": "invalid character in identifier (<ipython-input-2-5a12add32b10>, line 1)",
     "output_type": "error",
     "traceback": [
      "\u001b[0;36m  File \u001b[0;32m\"<ipython-input-2-5a12add32b10>\"\u001b[0;36m, line \u001b[0;32m1\u001b[0m\n\u001b[0;31m    file = ‘unisex_names.csv’\u001b[0m\n\u001b[0m                       ^\u001b[0m\n\u001b[0;31mSyntaxError\u001b[0m\u001b[0;31m:\u001b[0m invalid character in identifier\n"
     ]
    }
   ],
   "source": [
    "import pandas as pd\n",
    "\n",
    "file = ‘unisex_names.csv’\n",
    "def get_name_gen(file):\n",
    "    with open(file) as f:\n",
    "        for line in f:\n",
    "            yield line.strip()\n",
    "g = get_name_gen(file)\n",
    "print(next(g))\n",
    "print(next(g))\n",
    "print(next(g))\n",
    "print(next(g))"
   ]
  },
  {
   "cell_type": "code",
   "execution_count": null,
   "metadata": {},
   "outputs": [],
   "source": []
  }
 ],
 "metadata": {
  "kernelspec": {
   "display_name": "Python 3",
   "language": "python",
   "name": "python3"
  },
  "language_info": {
   "codemirror_mode": {
    "name": "ipython",
    "version": 3
   },
   "file_extension": ".py",
   "mimetype": "text/x-python",
   "name": "python",
   "nbconvert_exporter": "python",
   "pygments_lexer": "ipython3",
   "version": "3.7.6"
  }
 },
 "nbformat": 4,
 "nbformat_minor": 4
}
