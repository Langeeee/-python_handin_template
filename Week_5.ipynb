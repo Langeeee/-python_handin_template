{
 "cells": [
  {
   "cell_type": "markdown",
   "metadata": {},
   "source": [
    "# Week 5 handin"
   ]
  },
  {
   "cell_type": "markdown",
   "metadata": {},
   "source": [
    "## 02 Status\n",
    " Kunne ikke få 5D til at virke"
   ]
  },
  {
   "cell_type": "markdown",
   "metadata": {},
   "source": [
    "## Exercise 1 "
   ]
  },
  {
   "cell_type": "markdown",
   "metadata": {},
   "source": [
    "# 1 - 2 - 3\n",
    "https://api.statbank.dk/v1/tables?format=JSON"
   ]
  },
  {
   "cell_type": "markdown",
   "metadata": {},
   "source": [
    "# 4 \n",
    "\n",
    "https://api.statbank.dk/v1/data/FOLK1A/CSV?delimiter=Semicolon&OMR%C3%85DE=084%2C370%2C169&ALDER=12%2C16%2C21%2C101&K%C3%98N=TOT&CIVILSTAND=TOT%2CU%2CG&Tid=2008K3%2C2013K1%2C2009K3"
   ]
  },
  {
   "cell_type": "code",
   "execution_count": 28,
   "metadata": {
    "scrolled": true
   },
   "outputs": [],
   "source": [
    "#5\n",
    "import pandas as pd\n",
    "import matplotlib.pyplot as plt\n",
    "import math"
   ]
  },
  {
   "cell_type": "code",
   "execution_count": 17,
   "metadata": {},
   "outputs": [
    {
     "name": "stdout",
     "output_type": "stream",
     "text": [
      "Divorces has increased by 26.98 %\n"
     ]
    }
   ],
   "source": [
    "#A - download csv file for the first quarter of the year 2008 & 2020  -> https://api.statbank.dk/v1/data/FOLK1A/CSV?lang=en&CIVILSTAND=F&Tid=2008K1%2C2020K1\n",
    "\n",
    "url = 'https://api.statbank.dk/v1/data/FOLK1A/CSV?lang=en&CIVILSTAND=F&Tid=2008K1%2C2020K1'\n",
    "df_a = pd.read_csv(url, sep=';')\n",
    "\n",
    "\n",
    "divorced_08 = df_a.iloc[0,2]\n",
    "divorced_20 = df_a.iloc[1,2]\n",
    "pct_changed = ((divorced_20/divorced_08) - 1) * 100\n",
    "\n",
    "increased_descreased = 'decreased' if pct_changed <= 0 else 'increased'\n",
    "\n",
    "print('Divorces has %s by %.2f %%' % (increased_descreased, pct_change))"
   ]
  },
  {
   "cell_type": "code",
   "execution_count": 38,
   "metadata": {},
   "outputs": [
    {
     "name": "stdout",
     "output_type": "stream",
     "text": [
      "{'area': 'Copenhagen', 'pct': 65.49}\n"
     ]
    }
   ],
   "source": [
    "#B\n",
    "url = 'https://api.statbank.dk/v1/data/FOLK1A/CSV?lang=en&delimiter=Semicolon&OMR%C3%85DE=*&CIVILSTAND=TOT%2CU&Tid=2020K4'\n",
    "df_b = pd.read_csv(url, sep=';')\n",
    "\n",
    "\n",
    "status_total = cities[cities[:]['CIVILSTAND'] == 'Total']\n",
    "status_never_married = cities[cities[:]['CIVILSTAND'] == 'Never married']\n",
    "cities= df_b[(df_b[:]['OMRÅDE'] != 'All Denmark') & (df_b[:]['OMRÅDE'].str.contains('Region') == False)]\n",
    "\n",
    "five_biggest_cities = status_total.sort_values('INDHOLD', ascending=False)[:5]\n",
    "\n",
    "\n",
    "highest_pct = {'area': '', 'pct': 0}\n",
    "for area in five_biggest_cities['OMRÅDE']:\n",
    "    no_people = int(five_biggest_cities[(five_biggest_cities['OMRÅDE'] == area)]['INDHOLD'])\n",
    "    no_never_married = int(status_never_married[(status_never_married['OMRÅDE'] == area)]['INDHOLD'])\n",
    "    pct = (no_never_married/no_people) * 100\n",
    "    \n",
    "    if pct > highest_pct['pct']:\n",
    "        highest_pct['area'] = area\n",
    "        highest_pct['pct'] = round(pct, 2)\n",
    "print(highest_pct)"
   ]
  },
  {
   "cell_type": "code",
   "execution_count": 46,
   "metadata": {},
   "outputs": [
    {
     "data": {
      "text/plain": [
       "<matplotlib.axes._subplots.AxesSubplot at 0x7fc2bbef9b50>"
      ]
     },
     "execution_count": 46,
     "metadata": {},
     "output_type": "execute_result"
    },
    {
     "data": {
      "image/png": "[encoded data removed]",
      "text/plain": [
       "<Figure size 432x288 with 1 Axes>"
      ]
     },
     "metadata": {
      "needs_background": "light"
     },
     "output_type": "display_data"
    }
   ],
   "source": [
    "#C\n",
    "\n",
    "url = 'https://api.statbank.dk/v1/data/FOLK1A/CSV?lang=en&delimiter=Semicolon&OMR%C3%85DE=101&Tid=*&CIVILSTAND=U%2CG%2CE%2CF'\n",
    "df_c = pd.read_csv(url, sep=';')\n",
    "\n",
    "\n",
    "year_end = df_c[df_c['TID'].str.endswith('Q4')]\n",
    "index = year_end['TID'].unique()\n",
    "\n",
    "married_separated = list(year_end[year_end['CIVILSTAND'] == 'Married/separated'][\"INDHOLD\"])\n",
    "\n",
    "divorced = list(year_end[year_end['CIVILSTAND'] == 'Divorced'][\"INDHOLD\"])\n",
    "\n",
    "widowed = list(year_end[year_end['CIVILSTAND'] == 'Widowed'][\"INDHOLD\"])\n",
    "\n",
    "\n",
    "never_married = list(year_end[year_end['CIVILSTAND'] == 'Never married'][\"INDHOLD\"])\n",
    "\n",
    "\n",
    "dt = pd.DataFrame(\n",
    "    {\n",
    "        'Married/Separated':married_separated,\n",
    "        \n",
    "        'Divorced':divorced,\n",
    "        \n",
    "        'Widowed':widowed,\n",
    "        \n",
    "        'Never married':never_married\n",
    "        \n",
    "        \n",
    "    }, index=index)\n",
    "\n",
    "dt.plot.bar()"
   ]
  },
  {
   "cell_type": "code",
   "execution_count": null,
   "metadata": {},
   "outputs": [],
   "source": []
  }
 ],
 "metadata": {
  "kernelspec": {
   "display_name": "Python 3",
   "language": "python",
   "name": "python3"
  },
  "language_info": {
   "codemirror_mode": {
    "name": "ipython",
    "version": 3
   },
   "file_extension": ".py",
   "mimetype": "text/x-python",
   "name": "python",
   "nbconvert_exporter": "python",
   "pygments_lexer": "ipython3",
   "version": "3.7.6"
  }
 },
 "nbformat": 4,
 "nbformat_minor": 4
}
