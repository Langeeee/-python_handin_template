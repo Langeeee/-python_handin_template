{
 "cells": [
  {
   "cell_type": "code",
   "execution_count": 1,
   "metadata": {},
   "outputs": [
    {
     "name": "stdout",
     "output_type": "stream",
     "text": [
      "hey\n",
      "/9j/4AAQSkZJRgABAQEASABIAAD/2wBDABYPERMRDhYTEhMZFxYaITckIR4eIUQwMyg3UEZUU09GTUxYY39sWF54X0xNbpZweIOHjpCOVmqcp5uKpn+Ljon/2wBDARcZGSEdIUEkJEGJW01biYmJiYmJiYmJiYmJiYmJiYmJiYmJiYmJiYmJiYmJiYmJiYmJiYmJiYmJiYmJiYmJiYn/wAARCAA5ASwDASIAAhEBAxEB/8QAGgABAAMBAQEAAAAAAAAAAAAAAAQFBgMBAv/EACsQAAICAgEDAwMDBQAAAAAAAAABAgMEBREGEiETMUEjMlEiUnEUFkJhkf/EABQBAQAAAAAAAAAAAAAAAAAAAAD/xAAUEQEAAAAAAAAAAAAAAAAAAAAA/9oADAMBAAIRAxEAPwDXAAADyUlFNyaSXyz5jdVL7bYPn8SQH2AVmy3uFrpdls3Kz9sPIFmDOYvV2LfkKudM61J8KTZO2uZc5V4mDJK67z3ftX5AtHJL3aR6nz7GZyem5vGnZZsLpWpctuXgh9N2Z9sb8Wuz9KfDtb5cf4A2QMxubr9RiQcc+c7m/Z+eSV05tczY9yyaUoxXKmlxyBegAAAAAAAAAAAAAAAAAAAAAAAAAAAAAAAAAAAAMR1hl5L2Sxu+UKVFcJPw+fkf2xkQwllU5ndLt70kmjYZOFjZTi76YWOPt3Iy+1zs3N2T1WB9KuP6Xx4A6aLbZd2Bk02d07aYvtl8lZ05jQz9pN5lUrPd8y9uTWaXU16uiUe7vsn90mds2h14N/8ASVxjbKL47VxywMpvacTI2dONr616ifEnBeEa+nGqojCxpd8YKLk/wU/S+sljVTvyYJXzfz7okdUX20ax+jzzOSi2vhAQ9rtrsycsHWwc2/Ep/CJ2g1K1mO+982z8yZBw9rrdbiVxoqssk/ucYeeTrDqaM7YwWDkPl+HwBw23TV+fmTvWSuH9qfwdtXnS1zhr9jWqpLxC1fbIvIXRdSnP6fPxJ+xR9RZ2ttwp1WWQnYvMe33TAldRbCeDr++lrvk+Is5dM7OzNx515MvrwflPw+DJrKydjhxxkpWTpfMfl8FtVfV6FWVC30M6lcSjNcd6/DA2IK7U7jH2VfEZKNy+6DLEAAAAAAAAAAAAAAAAAAAAAAAAAAAAAAAAA/CfHky+LtM6W7db1sYpy4lJQ88fnk1AAEfPrvtxLIY01C1rhN/BIAFHotRl4Vs7svJdkpf488ou5QjNcSipL8NHoA+FVWlwq4pfwfShFe0V/wAPQBxycWnKj23Q7kiG9DrH740SyAETE1uJhtvHpjBv5O1uLRcuLKYS/lHUAY3M1DfUHp4cZ018cylDxwanBxp4tPpzvnd/ufuSeFzzwuQAAAAAAAAAAAAAAAAAAAAAAAAAAAAAAAAAAAAAAAAAAAAAAAAAAAAAAAAAAAAAAAAAAAAAAAAAAAAAAAAB/9k\n"
     ]
    }
   ],
   "source": [
    "\n",
    "from exercise7 import DoScrape\n",
    "ws = DoScrape()\n",
    "ws.fakecaptcha_interaction(\"01234\" ,1)"
   ]
  },
  {
   "cell_type": "code",
   "execution_count": null,
   "metadata": {},
   "outputs": [],
   "source": []
  }
 ],
 "metadata": {
  "kernelspec": {
   "display_name": "Python 3",
   "language": "python",
   "name": "python3"
  },
  "language_info": {
   "codemirror_mode": {
    "name": "ipython",
    "version": 3
   },
   "file_extension": ".py",
   "mimetype": "text/x-python",
   "name": "python",
   "nbconvert_exporter": "python",
   "pygments_lexer": "ipython3",
   "version": "3.7.6"
  }
 },
 "nbformat": 4,
 "nbformat_minor": 2
}
